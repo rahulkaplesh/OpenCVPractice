{
 "cells": [
  {
   "cell_type": "code",
   "execution_count": 4,
   "metadata": {},
   "outputs": [],
   "source": [
    "import cv2\n",
    "import numpy as np\n",
    "\n",
    "image = cv2.imread('images/input.jpg')\n",
    "\n",
    "M = np.ones(image.shape, dtype='uint8') * 75\n",
    "\n",
    "added = cv2.add(image, M)\n",
    "cv2.imshow('Brightened Image', added)\n",
    "\n",
    "subtracted = cv2.subtract(image, M)\n",
    "cv2.imshow('Substarcted Image', subtracted)\n",
    "\n",
    "cv2.waitKey(0)\n",
    "cv2.destroyAllWindows()"
   ]
  },
  {
   "cell_type": "code",
   "execution_count": 3,
   "metadata": {},
   "outputs": [
    {
     "name": "stdout",
     "output_type": "stream",
     "text": [
      "[[[75 75 75]\n",
      "  [75 75 75]\n",
      "  [75 75 75]\n",
      "  ...\n",
      "  [75 75 75]\n",
      "  [75 75 75]\n",
      "  [75 75 75]]\n",
      "\n",
      " [[75 75 75]\n",
      "  [75 75 75]\n",
      "  [75 75 75]\n",
      "  ...\n",
      "  [75 75 75]\n",
      "  [75 75 75]\n",
      "  [75 75 75]]\n",
      "\n",
      " [[75 75 75]\n",
      "  [75 75 75]\n",
      "  [75 75 75]\n",
      "  ...\n",
      "  [75 75 75]\n",
      "  [75 75 75]\n",
      "  [75 75 75]]\n",
      "\n",
      " ...\n",
      "\n",
      " [[75 75 75]\n",
      "  [75 75 75]\n",
      "  [75 75 75]\n",
      "  ...\n",
      "  [75 75 75]\n",
      "  [75 75 75]\n",
      "  [75 75 75]]\n",
      "\n",
      " [[75 75 75]\n",
      "  [75 75 75]\n",
      "  [75 75 75]\n",
      "  ...\n",
      "  [75 75 75]\n",
      "  [75 75 75]\n",
      "  [75 75 75]]\n",
      "\n",
      " [[75 75 75]\n",
      "  [75 75 75]\n",
      "  [75 75 75]\n",
      "  ...\n",
      "  [75 75 75]\n",
      "  [75 75 75]\n",
      "  [75 75 75]]]\n"
     ]
    }
   ],
   "source": [
    "M = np.ones(image.shape, dtype='uint8') * 75\n",
    "print(M)"
   ]
  },
  {
   "cell_type": "code",
   "execution_count": null,
   "metadata": {},
   "outputs": [],
   "source": []
  }
 ],
 "metadata": {
  "kernelspec": {
   "display_name": "Python 3",
   "language": "python",
   "name": "python3"
  },
  "language_info": {
   "codemirror_mode": {
    "name": "ipython",
    "version": 3
   },
   "file_extension": ".py",
   "mimetype": "text/x-python",
   "name": "python",
   "nbconvert_exporter": "python",
   "pygments_lexer": "ipython3",
   "version": "3.7.6"
  }
 },
 "nbformat": 4,
 "nbformat_minor": 4
}
